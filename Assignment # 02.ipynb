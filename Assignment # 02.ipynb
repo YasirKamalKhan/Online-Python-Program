{
 "cells": [
  {
   "cell_type": "code",
   "execution_count": null,
   "id": "f925371e",
   "metadata": {},
   "outputs": [],
   "source": [
    "# Following codes are written by Yasir Kamal Student at Jawan Pakistan.\n",
    "# Marks in each Subject\n",
    "Marks_in_English = int(input(\"Enter Marks in English: \"));\n",
    "Marks_in_Islamiat = int(input(\"Enter Marks in Islamiat: \"));\n",
    "Marks_in_Maths = int(input(\"Enter Marks in Math: \"));\n",
    "# Total Marks\n",
    "Total_Marks = 300;\n",
    "# Marks Obtained\n",
    "Obtained_Marks = Marks_in_English + Marks_in_Islamiat + Marks_in_Maths;\n",
    "#Current Percentage in integer\n",
    "percentage = (Obtained_Marks*100)//Total_Marks;\n",
    "\n",
    "# Grade Obtained\n",
    "if percentage <= 100 and percentage >= 80:\n",
    "    Grade = \"A1\";\n",
    "elif percentage < 80 and percentage >= 70:\n",
    "    Grade = \"A\";\n",
    "elif percentage < 70 and percentage >= 60:\n",
    "    Grade = \"B\";\n",
    "elif percentage < 60 and percentage >= 50:\n",
    "    Grade = \"C\";\n",
    "elif percentage < 50 and percentage >= 40:\n",
    "    Grade = \"D\";\n",
    "else:\n",
    "    Grade = \"F\";\n",
    "# Greeting\n",
    "if percentage <= 100 and percentage >= 40:\n",
    "    Greeting = \"Congratulations! You have Passed.\"\n",
    "else:\n",
    "    Greeting = \"Sorry! You did not Passed.\"\n",
    "# Display message \n",
    "print(\"Total Marks : \",Total_Marks)\n",
    "print(\"Obtained Marks : \",Obtained_Marks)\n",
    "print(\"Percentage is : \",percentage)\n",
    "print(\"Your Grade is : \",Grade)\n",
    "print(Greeting)"
   ]
  },
  {
   "cell_type": "code",
   "execution_count": 7,
   "id": "748555cb",
   "metadata": {},
   "outputs": [
    {
     "data": {
      "text/plain": [
       "['Ahmad']"
      ]
     },
     "execution_count": 7,
     "metadata": {},
     "output_type": "execute_result"
    }
   ],
   "source": [
    "Enter Marks in English: 100\n",
    "Enter Marks in Islamiat: 100\n",
    "Enter Marks in Math: 100\n",
    "Total Marks :  300\n",
    "Obtained Marks :  300\n",
    "Percentage is :  100\n",
    "Your Grade is :  A1\n",
    "Congratulations! You have Passed."
   ]
  },
  {
   "cell_type": "code",
   "execution_count": null,
   "id": "7cbe36e0",
   "metadata": {},
   "outputs": [],
   "source": []
  },
  {
   "cell_type": "code",
   "execution_count": null,
   "id": "63c30df9",
   "metadata": {},
   "outputs": [],
   "source": []
  }
 ],
 "metadata": {
  "kernelspec": {
   "display_name": "Python 3",
   "language": "python",
   "name": "python3"
  },
  "language_info": {
   "codemirror_mode": {
    "name": "ipython",
    "version": 3
   },
   "file_extension": ".py",
   "mimetype": "text/x-python",
   "name": "python",
   "nbconvert_exporter": "python",
   "pygments_lexer": "ipython3",
   "version": "3.8.8"
  }
 },
 "nbformat": 4,
 "nbformat_minor": 5
}

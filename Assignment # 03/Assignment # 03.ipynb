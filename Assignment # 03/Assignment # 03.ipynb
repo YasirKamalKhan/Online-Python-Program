{
 "cells": [
  {
   "cell_type": "code",
   "execution_count": 19,
   "id": "0909d100",
   "metadata": {},
   "outputs": [
    {
     "name": "stdout",
     "output_type": "stream",
     "text": [
      "Twinkle, twinkle, little star, \n",
      "\t How I wonder what you are!\n",
      "\t\t Up above the world so high, \n",
      "\t\t Like a diamond in the sky.\n",
      "Twinkle, twinkle, little star, \n",
      "\t How I wonder what you are!\n"
     ]
    }
   ],
   "source": [
    "# Question Number 01 - print the following string in a specific format\n",
    "\n",
    "# variable initialization\n",
    "First_line = \"Twinkle, twinkle, little star,\"\n",
    "Second_line = \"How I wonder what you are!\"\n",
    "Third_line = \"Up above the world so high,\"\n",
    "Fourth_line = \"Like a diamond in the sky.\"\n",
    "\n",
    "# Making a List\n",
    "Poet_List = [First_line, Second_line, Third_line, Fourth_line]\n",
    "\n",
    "# Display the output using list indexing\n",
    "print(Poet_List[0],\"\\n\\t\",Poet_List[1])\n",
    "print(\"\\t\\t\",Poet_List[2],\"\\n\\t\\t\",Poet_List[3])\n",
    "print(Poet_List[0],\"\\n\\t\",Poet_List[1])"
   ]
  },
  {
   "cell_type": "code",
   "execution_count": 32,
   "id": "6fd12ebf",
   "metadata": {},
   "outputs": [
    {
     "name": "stdout",
     "output_type": "stream",
     "text": [
      "3.8.8 (default, Apr 13 2021, 15:08:03) [MSC v.1916 64 bit (AMD64)]\n"
     ]
    }
   ],
   "source": [
    "# Question Number 02 - Display version as output\n",
    "# Check the Python Version\n",
    "import sys\n",
    "print(sys.version)"
   ]
  },
  {
   "cell_type": "code",
   "execution_count": 44,
   "id": "d360cc89",
   "metadata": {},
   "outputs": [
    {
     "name": "stdout",
     "output_type": "stream",
     "text": [
      "Current Date is:  23-10-21\n",
      "Current Time is:  23-25-37\n"
     ]
    }
   ],
   "source": [
    "# Question Number 03 - Display Current Date and Time\n",
    "import datetime\n",
    "\n",
    "# Variable Initialization\n",
    "current_date_time = datetime.datetime.now()\n",
    "\n",
    "# Display Current Date and Time\n",
    "print(\"Current Date is: \",current_date_time.strftime(\"%d-%m-%y\"))\n",
    "print(\"Current Time is: \",current_date_time.strftime(\"%H-%M-%S\"))"
   ]
  },
  {
   "cell_type": "code",
   "execution_count": 33,
   "id": "58f8e78c",
   "metadata": {},
   "outputs": [
    {
     "name": "stdout",
     "output_type": "stream",
     "text": [
      "Enter the radius of the Circle: 20\n",
      "The Area of the Circle is:  1256.6370614359173\n"
     ]
    },
    {
     "data": {
      "image/png": "[encoded data removed]",
      "text/plain": [
       "<Figure size 432x288 with 1 Axes>"
      ]
     },
     "metadata": {
      "needs_background": "light"
     },
     "output_type": "display_data"
    }
   ],
   "source": [
    "# Question Number 04 - accepts the radius of a circle from the user and compute the area.\n",
    "\n",
    "import math\n",
    "\n",
    "# Variable initialization\n",
    "radius = float(input(\"Enter the radius of the Circle: \"))\n",
    "# Calculating Area\n",
    "Area = math.pi*radius*radius\n",
    "# Display the Area\n",
    "print(\"The Area of the Circle is: \", Area)\n",
    "\n",
    "# Drawing Circle with given radius\n",
    "\n",
    "import matplotlib.pyplot as plt\n",
    "%matplotlib inline  \n",
    "\n",
    "class Circle(object):\n",
    "    \n",
    "    # Constructor\n",
    "    def __init__(self, radius, color='red'):\n",
    "        self.radius = radius\n",
    "        self.color = color \n",
    "    \n",
    "    # Method\n",
    "    def drawCircle(self):\n",
    "        plt.gca().add_patch(plt.Circle((0, 0), radius=self.radius, fc=self.color))\n",
    "        plt.axis('scaled')\n",
    "        plt.show()  \n",
    "RedCircle = Circle(radius)\n",
    "RedCircle.drawCircle()"
   ]
  },
  {
   "cell_type": "code",
   "execution_count": 34,
   "id": "2b5b8ec4",
   "metadata": {},
   "outputs": [
    {
     "name": "stdout",
     "output_type": "stream",
     "text": [
      "Enter Your First Name: Yasir\n",
      "Enter Your Second Name: Kamal\n",
      "Reverse ordered name is:  Kamal Yasir\n"
     ]
    }
   ],
   "source": [
    "# Question Number 05 - accepts the user's first and last name and print them in reverse order with a space between them.\n",
    "# variable initialization\n",
    "first_name = input(\"Enter Your First Name: \")\n",
    "second_name = input(\"Enter Your Second Name: \")\n",
    "# Making a reverse list\n",
    "reverse_order = [first_name, second_name]\n",
    "# Display reverse name\n",
    "print(\"Reverse ordered name is: \",reverse_order[1], reverse_order[0])"
   ]
  },
  {
   "cell_type": "code",
   "execution_count": 46,
   "id": "b8db551e",
   "metadata": {},
   "outputs": [
    {
     "name": "stdout",
     "output_type": "stream",
     "text": [
      "Enter Yout First integer Input: 8\n",
      "Enter Yout Second integer Input: 90\n",
      "\n",
      "Output: \n",
      "The addion is:  98\n"
     ]
    }
   ],
   "source": [
    "# Question Number 06 - takes two inputs from user and print them addition\n",
    "first_input = int(input(\"Enter Yout First integer Input: \"))\n",
    "second_input = int(input(\"Enter Yout Second integer Input: \"))\n",
    "# Display addition output\n",
    "print(\"\\nOutput: \")\n",
    "print(\"The addion is: \", first_input+second_input)"
   ]
  },
  {
   "cell_type": "code",
   "execution_count": 3,
   "id": "40916fee",
   "metadata": {},
   "outputs": [
    {
     "name": "stdout",
     "output_type": "stream",
     "text": [
      "Enter First Subject Marks : 90\n",
      "Enter Second Subject Marks: 90\n",
      "Enter Third Subject Marks: 100\n",
      "Enter Fourth Subject Marks: 95\n",
      "Enter Fifth Subject Marks: 80\n",
      "Enter Total Marks: 500\n",
      "\n",
      "Marksheet: \n",
      "Total Marks :  500\n",
      "Obtained Marks :  455\n",
      "Percentage is :  91\n",
      "Your Grade is :  A1\n",
      "Congratulations! You have Passed.\n"
     ]
    }
   ],
   "source": [
    "# Question Number 07\n",
    "# takes 5 inputs from user for different subject’s marks, total it and generate mark sheet using grades\n",
    "\n",
    "# Marks in each Subject\n",
    "first_subject = int(input(\"Enter First Subject Marks : \"));\n",
    "second_subject = int(input(\"Enter Second Subject Marks: \"));\n",
    "third_subject = int(input(\"Enter Third Subject Marks: \"));\n",
    "fourth_subject = int(input(\"Enter Fourth Subject Marks: \"));\n",
    "fifth_subject = int(input(\"Enter Fifth Subject Marks: \"));\n",
    "# Total Marks\n",
    "Total_Marks = int(input(\"Enter Total Marks: \"));\n",
    "# Marks Obtained\n",
    "Obtained_Marks = first_subject + second_subject + third_subject + fourth_subject + fifth_subject;\n",
    "#Current Percentage in integer\n",
    "percentage = (Obtained_Marks*100)//Total_Marks;\n",
    "\n",
    "# Grade Obtained\n",
    "if percentage <= 100 and percentage >= 80:\n",
    "    Grade = \"A1\";\n",
    "elif percentage < 80 and percentage >= 70:\n",
    "    Grade = \"A\";\n",
    "elif percentage < 70 and percentage >= 60:\n",
    "    Grade = \"B\";\n",
    "elif percentage < 60 and percentage >= 50:\n",
    "    Grade = \"C\";\n",
    "elif percentage < 50 and percentage >= 40:\n",
    "    Grade = \"D\";\n",
    "else:\n",
    "    Grade = \"F\";\n",
    "    \n",
    "# Greeting\n",
    "if percentage <= 100 and percentage >= 40:\n",
    "    Greeting = \"Congratulations! You have Passed.\"\n",
    "else:\n",
    "    Greeting = \"Sorry! You did not Passed.\"\n",
    "    \n",
    "# Generate Marksheet\n",
    "print(\"\\nMarksheet:\",\"\\nTotal Marks : \",Total_Marks)\n",
    "print(\"Obtained Marks : \",Obtained_Marks)\n",
    "print(\"Percentage is : \",percentage)\n",
    "print(\"Your Grade is : \",Grade)\n",
    "print(Greeting)\n"
   ]
  },
  {
   "cell_type": "code",
   "execution_count": 47,
   "id": "960d3939",
   "metadata": {},
   "outputs": [
    {
     "name": "stdout",
     "output_type": "stream",
     "text": [
      "Enter an integer number: 96\n",
      "96 is an Even number.\n"
     ]
    }
   ],
   "source": [
    "# Question Number 08 - take input from user and identify that the given number is even or odd?\n",
    "\n",
    "# Getting user input\n",
    "user_input = int(input(\"Enter an integer number: \"))\n",
    "# Display output using if-else statement\n",
    "if user_input%2 == 0:\n",
    "    print(user_input, \"is an Even number.\")\n",
    "else:\n",
    "    print(user_input, \"is an Odd number.\")"
   ]
  },
  {
   "cell_type": "code",
   "execution_count": 48,
   "id": "93794823",
   "metadata": {},
   "outputs": [
    {
     "name": "stdout",
     "output_type": "stream",
     "text": [
      "Enter the element: 8\n",
      "Enter the element: 4\n",
      "Enter the element: 9\n",
      "Enter the element: 10\n",
      "Enter the element: 2\n",
      "Your List is:  [8, 4, 9, 10, 2]\n",
      "\n",
      "Length of your list is:  5\n"
     ]
    }
   ],
   "source": [
    "# Question Number 09 - Write a program which print the length of the list?\n",
    "\n",
    "# Getting user input\n",
    "List=[]\n",
    "for i in range(5):\n",
    "    b=int(input(\"Enter the element: \"))\n",
    "    List.append(b)\n",
    "print(\"Your List is: \",List)\n",
    "# Display list Length\n",
    "print(\"\\nLength of your list is: \",len(List))"
   ]
  },
  {
   "cell_type": "code",
   "execution_count": 50,
   "id": "eaa9fe87",
   "metadata": {},
   "outputs": [
    {
     "name": "stdout",
     "output_type": "stream",
     "text": [
      "Enter the element: 80\n",
      "Enter the element: 90\n",
      "Enter the element: 70\n",
      "Enter the element: 60\n",
      "Enter the element: 52\n",
      "Your Number List is:  [80, 90, 70, 60, 52]\n",
      "Total sum of numeric items is:  352\n"
     ]
    }
   ],
   "source": [
    "# Question Number 10 - Write a Python program to sum all the numeric items in a list?\n",
    "\n",
    "List=[]\n",
    "for i in range(5):\n",
    "    b=int(input(\"Enter the element: \"))\n",
    "    List.append(b)\n",
    "# List formation\n",
    "print(\"Your Number List is: \",List)\n",
    "# List formation\n",
    "# Summition of List\n",
    "List_sum = sum(List)\n",
    "print(\"Total sum of numeric items is: \", List_sum)"
   ]
  },
  {
   "cell_type": "code",
   "execution_count": 24,
   "id": "f4eb7168",
   "metadata": {},
   "outputs": [
    {
     "name": "stdout",
     "output_type": "stream",
     "text": [
      "How much elements you want to enter: 7\n",
      "Enter the element: 4\n",
      "Enter the element: 5\n",
      "Enter the element: 6\n",
      "Enter the element: 8\n",
      "Enter the element: 90\n",
      "Enter the element: 100\n",
      "Enter the element: 70\n",
      "Your List is:  [4, 5, 6, 8, 90, 100, 70]\n",
      "Largest number in your list is:  100\n"
     ]
    }
   ],
   "source": [
    "# Question Number 11 - Write a Python program to get the largest number from a numeric list.\n",
    "l=[]\n",
    "a=int(input(\"How much elements you want to enter: \"))\n",
    "for i in range(1,a+1):\n",
    "    b=int(input(\"Enter the element: \"))\n",
    "    l.append(b)\n",
    "print(\"Your List is: \",l)\n",
    "largest_number = max(l)\n",
    "print(\"Largest number in your list is: \", largest_number)"
   ]
  },
  {
   "cell_type": "code",
   "execution_count": 31,
   "id": "1653a834",
   "metadata": {},
   "outputs": [
    {
     "name": "stdout",
     "output_type": "stream",
     "text": [
      "The numbers less than Five are:  [1, 1, 2, 3]\n"
     ]
    }
   ],
   "source": [
    "# Question Number 12 - Write a program that prints out all the elements of the list that are less than 5.\n",
    "List_less_than_five=[]\n",
    "a = [1, 1, 2, 3, 5, 8, 13, 21, 34, 55, 89]\n",
    "for i in range(0,11):\n",
    "    if a[i]<5:\n",
    "        b=a[i]\n",
    "        List_less_than_five.append(b)\n",
    "print(\"The numbers less than Five are: \", List_less_than_five)"
   ]
  },
  {
   "cell_type": "code",
   "execution_count": null,
   "id": "7c68aef6",
   "metadata": {},
   "outputs": [],
   "source": [
    "# This Assignment is Submitted to \"Muhammad Ali Mughal\" founder of Jawan Pakistan.\n",
    "# Submitted by Yasir Kamal."
   ]
  }
 ],
 "metadata": {
  "kernelspec": {
   "display_name": "Python 3",
   "language": "python",
   "name": "python3"
  },
  "language_info": {
   "codemirror_mode": {
    "name": "ipython",
    "version": 3
   },
   "file_extension": ".py",
   "mimetype": "text/x-python",
   "name": "python",
   "nbconvert_exporter": "python",
   "pygments_lexer": "ipython3",
   "version": "3.8.8"
  }
 },
 "nbformat": 4,
 "nbformat_minor": 5
}
